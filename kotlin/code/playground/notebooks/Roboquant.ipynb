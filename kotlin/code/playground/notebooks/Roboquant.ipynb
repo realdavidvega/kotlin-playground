{
 "cells": [
  {
   "cell_type": "code",
   "metadata": {
    "collapsed": true,
    "ExecuteTime": {
     "end_time": "2024-07-15T20:15:02.802098Z",
     "start_time": "2024-07-15T20:15:02.554389Z"
    }
   },
   "source": "%use roboquant(2.1.0)\n",
   "outputs": [],
   "execution_count": 1
  },
  {
   "metadata": {
    "ExecuteTime": {
     "end_time": "2024-07-15T20:16:00.229603Z",
     "start_time": "2024-07-15T20:15:56.297321Z"
    }
   },
   "cell_type": "code",
   "source": [
    "val feed = AvroFeed.sp500()\n",
    "\n",
    "val emaStrategy = EMAStrategy()\n",
    "val rsiStrategy = RSIStrategy()\n",
    "val strategy = ParallelStrategy(emaStrategy, rsiStrategy)\n",
    "\n",
    "val roboquant = Roboquant(strategy, AccountMetric())\n",
    "roboquant.run(feed)"
   ],
   "outputs": [
    {
     "name": "stdout",
     "output_type": "stream",
     "text": [
      "2018-01-02 - 2022-12-30 | 100% |████████████████████████████████████| run-2018-01-02 - 2022-12-30\n"
     ]
    }
   ],
   "execution_count": 3
  }
 ],
 "metadata": {
  "kernelspec": {
   "display_name": "Kotlin",
   "language": "kotlin",
   "name": "kotlin"
  },
  "language_info": {
   "name": "kotlin",
   "version": "1.9.23",
   "mimetype": "text/x-kotlin",
   "file_extension": ".kt",
   "pygments_lexer": "kotlin",
   "codemirror_mode": "text/x-kotlin",
   "nbconvert_exporter": ""
  }
 },
 "nbformat": 4,
 "nbformat_minor": 0
}
